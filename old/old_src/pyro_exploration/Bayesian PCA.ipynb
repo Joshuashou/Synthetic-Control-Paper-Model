{
 "cells": [
  {
   "cell_type": "code",
   "execution_count": 4,
   "metadata": {},
   "outputs": [],
   "source": [
    "import pyro\n",
    "import pyro.distributions as dist\n",
    "import torch\n",
    "import numpy as np\n",
    "import matplotlib.pyplot as plt\n",
    "import pyro.infer.mcmc as mcmc\n",
    "import torch.distributions\n",
    "\n",
    "\n",
    "def bayesian_pca(data, latent_dim, mask): #Pass in mask directly into the model \n",
    "    # Define model parameters\n",
    "    n, p = data.shape\n",
    "    sigma = pyro.sample(\"sigma\", dist.Uniform(0., 10.))\n",
    "    mu = torch.zeros(p)\n",
    "    covariance = sigma * torch.eye(p)\n",
    "    \n",
    "\n",
    "#     Z_nl = pyro.sample(\"Z\", dist.MultivariateNormal(torch.zeros(latent_dim), torch.eye(latent_dim)).expand((n,)).to_event(1))\n",
    "    \n",
    "#     W_lp = pyro.sample(\"W\", dist.MultivariateNormal(torch.zeros(p), torch.eye(p)).expand((latent_dim,)).to_event(1))\n",
    "    Z_mean = pyro.param(\"Z_mean\", torch.zeros(n, latent_dim))\n",
    "    Z_cov = pyro.param(\"Z_cov\", torch.eye(latent_dim))\n",
    "\n",
    "\n",
    "    W_mean = pyro.param(\"W_mean\", torch.zeros(latent_dim, p))\n",
    "    W_cov = pyro.param(\"W_cov\", torch.eye(p))\n",
    "    \n",
    "    \n",
    "    Z_mean.data = torch.zeros(n, latent_dim)\n",
    "    Z_cov.data = torch.eye(latent_dim)\n",
    "    W_mean.data = torch.zeros(latent_dim, p)\n",
    "    W_cov.data = torch.eye(p)\n",
    "\n",
    "    Z_nl = pyro.sample(\"Z\", dist.MultivariateNormal(Z_mean, Z_cov))\n",
    "    W_lp = pyro.sample(\"W\", dist.MultivariateNormal(W_mean, W_cov))\n",
    "    \n",
    "    mean = Z_nl @ W_lp\n",
    "\n",
    "    # sample observed variables from a multivariate Gaussian with mean \"mean\" and covariance \"covariance\"\n",
    "    \n",
    "    #Implement mask on our data to avoid those probabilities. \n",
    "\n",
    "    X = pyro.sample(\"X\", dist.Normal(mean, sigma).mask(mask), obs=data)\n",
    "    \n",
    "    \n",
    "    return X"
   ]
  },
  {
   "cell_type": "code",
   "execution_count": 6,
   "metadata": {},
   "outputs": [
    {
     "name": "stderr",
     "output_type": "stream",
     "text": [
      "Sample: 100%|██████████| 300/300 [05:46,  1.16s/it, step size=1.41e-04, acc. prob=0.345]\n"
     ]
    }
   ],
   "source": [
    "def bayesian_pca_mcmc(data, latent_dim, num_samples, warmup_steps):\n",
    "\n",
    "    pyro.clear_param_store()   \n",
    "    # Run MCMC\n",
    "\n",
    "    kernel = mcmc.NUTS(bayesian_pca)\n",
    "    mcmc_run = mcmc.MCMC(kernel, num_samples=num_samples, warmup_steps=warmup_steps)\n",
    "\n",
    "    N, P = data.shape\n",
    "    mask_rows = torch.randperm(N)[:20]\n",
    "    mask_cols = torch.randperm(P)[:5]\n",
    "\n",
    "    mask = torch.ones(N,P)\n",
    "\n",
    "    for i in mask_rows:\n",
    "        for j in mask_cols:\n",
    "            mask[i,j] = 0\n",
    "    random_mask = mask.bool() #Boolean Tensor for mask\n",
    "\n",
    "    end_block_mask = torch.ones(N,P)\n",
    "    end_block_mask[-30:, -3:] = 0\n",
    "    end_block_mask = end_block_mask.bool()\n",
    "\n",
    "\n",
    "    test_mask = torch.ones(N,P)\n",
    "    test_mask = test_mask.bool()\n",
    "\n",
    "    #Apply MCMC to our data\n",
    "    mcmc_run.run(data, latent_dim, random_mask)\n",
    "\n",
    "    pyro.clear_param_store()\n",
    "    #print(dummy_train)\n",
    "    \n",
    "    posterior_samples = mcmc_run.get_samples()\n",
    "\n",
    "    # Extract W, sigma, and Z samples\n",
    "    W_samples = posterior_samples[\"W\"]\n",
    "    sigma_samples = posterior_samples[\"sigma\"]\n",
    "    Z_samples = posterior_samples[\"Z\"]\n",
    "    \n",
    "    return W_samples, sigma_samples, Z_samples\n",
    "\n",
    "W_samples, sigma_samples, Z_samples = bayesian_pca_mcmc(dummy_train_x)"
   ]
  }
 ],
 "metadata": {
  "kernelspec": {
   "display_name": "Python 3",
   "language": "python",
   "name": "python3"
  },
  "language_info": {
   "codemirror_mode": {
    "name": "ipython",
    "version": 3
   },
   "file_extension": ".py",
   "mimetype": "text/x-python",
   "name": "python",
   "nbconvert_exporter": "python",
   "pygments_lexer": "ipython3",
   "version": "3.7.6"
  }
 },
 "nbformat": 4,
 "nbformat_minor": 4
}
