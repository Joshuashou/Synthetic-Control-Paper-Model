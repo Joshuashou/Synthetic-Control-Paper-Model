{
 "cells": [
  {
   "cell_type": "code",
   "execution_count": 216,
   "metadata": {},
   "outputs": [],
   "source": [
    "import pyro\n",
    "import pyro.distributions as dist\n",
    "import torch\n",
    "import numpy as np\n",
    "import matplotlib.pyplot as plt\n",
    "import pyro.infer.mcmc as mcmc\n",
    "import torch.distributions\n",
    "\n",
    "\n",
    "def bayesian_pca(data, latent_dim):\n",
    "    # Define model parameters\n",
    "    n, p = data.shape\n",
    "    sigma = pyro.sample(\"sigma\", dist.Uniform(0., 10.))\n",
    "    mu = torch.zeros(p)\n",
    "    cov = sigma * torch.eye(p)\n",
    "\n",
    "    # Mask the lower right corner of the data\n",
    "    mask = torch.ones(n, p)\n",
    "    mask[-20:, -2:] = 0\n",
    "    masked_data = data * mask\n",
    "    \n",
    "\n",
    "    # Define the custom mask distribution\n",
    "    def mask_dist(mean, covariance):\n",
    "        masked_mean = mask * mean\n",
    "        return dist.MultivariateNormal(masked_mean, covariance_matrix=covariance)\n",
    "    \n",
    "    # Define the latent variables for the masked data\n",
    "\n",
    "    Z_mean = pyro.param(\"Z.mean\", torch.zeros(n, latent_dim))\n",
    "    Z_cov = pyro.param(\"Z.cov\", torch.eye(latent_dim))\n",
    "    Z = pyro.sample(\"Z\", dist.MultivariateNormal(Z_mean, Z_cov))\n",
    "\n",
    "    W_mean = pyro.param(\"W.mean\", torch.zeros(latent_dim, p))\n",
    "    W_cov = pyro.param(\"W.cov\", torch.eye(p))\n",
    "    W = pyro.sample(\"W\", dist.MultivariateNormal(W_mean, W_cov))\n",
    "    \n",
    "    X = pyro.sample(\"X\", mask_dist(Z @ W, cov * torch.eye(p)), obs=masked_data)\n",
    "\n",
    "    # Return the estimated latent variables\n",
    "    return X\n",
    "    "
   ]
  },
  {
   "cell_type": "code",
   "execution_count": null,
   "metadata": {},
   "outputs": [
    {
     "name": "stderr",
     "output_type": "stream",
     "text": [
      "Warmup:  47%|████▋     | 140/300 [00:48,  2.66s/it, step size=1.53e-03, acc. prob=0.781]"
     ]
    }
   ],
   "source": [
    "# Define model\n",
    "\n",
    "#Number of Dimensions post PCA, hyperparameter ?\n",
    "latent_dim = 3\n",
    "model = bayesian_pca\n",
    "\n",
    "# Generate Data\n",
    "n, p = 10, 5\n",
    "data = torch.randn(n, p) * 500\n",
    "\n",
    "\n",
    "\n",
    "# Run MCMC\n",
    "num_samples = 100\n",
    "\n",
    "#Lower warmup steps for code to run\n",
    "warmup_steps = 200\n",
    "kernel = mcmc.NUTS(model)\n",
    "mcmc_run = mcmc.MCMC(kernel, num_samples=num_samples, warmup_steps=warmup_steps)\n",
    "#Apply MCMC to our data.\n",
    "mcmc_run.run(data, latent_dim)"
   ]
  },
  {
   "cell_type": "code",
   "execution_count": 218,
   "metadata": {},
   "outputs": [
    {
     "name": "stdout",
     "output_type": "stream",
     "text": [
      "torch.Size([10, 3, 5])\n",
      "torch.Size([10, 10, 3])\n"
     ]
    },
    {
     "data": {
      "text/plain": [
       "tensor([[[ 2.6310e+01, -1.8270e+01, -6.9980e+00, -1.0639e+00,  1.0288e+00],\n",
       "         [-8.9176e+00,  3.1349e+00, -3.3903e+01,  6.6646e-01,  1.1331e+00],\n",
       "         [ 2.6510e+01,  2.4919e+01,  6.8493e+00, -3.4516e-01, -7.2125e-03]],\n",
       "\n",
       "        [[ 2.6275e+01, -1.8412e+01, -7.0536e+00, -1.0603e+00,  1.0573e+00],\n",
       "         [-8.7048e+00,  3.2015e+00, -3.3886e+01,  6.2663e-01,  1.1389e+00],\n",
       "         [ 2.6392e+01,  2.5033e+01,  6.7169e+00, -3.5560e-01,  2.3127e-02]],\n",
       "\n",
       "        [[ 2.6124e+01, -1.8957e+01, -7.4801e+00, -1.0247e+00,  9.7323e-01],\n",
       "         [-7.8823e+00,  3.9316e+00, -3.3768e+01,  6.4601e-01,  1.1522e+00],\n",
       "         [ 2.5805e+01,  2.5575e+01,  5.5812e+00, -1.0164e-01,  6.4611e-02]],\n",
       "\n",
       "        [[ 2.6586e+01, -1.8083e+01, -6.8338e+00, -9.8981e-01,  8.6370e-01],\n",
       "         [-9.5269e+00,  2.8221e+00, -3.4732e+01, -1.4043e-01,  6.9860e-01],\n",
       "         [ 2.5623e+01,  2.5436e+01,  4.8584e+00, -1.3682e-01,  3.0452e-01]],\n",
       "\n",
       "        [[ 2.6395e+01, -1.8298e+01, -7.2099e+00, -9.0785e-01,  7.2437e-01],\n",
       "         [-9.6705e+00,  2.6945e+00, -3.4528e+01, -3.3025e-01,  3.6295e-01],\n",
       "         [ 2.5719e+01,  2.4976e+01,  4.7902e+00,  5.1895e-02,  1.0211e-01]],\n",
       "\n",
       "        [[ 2.6877e+01, -2.0583e+01, -5.5784e+00,  1.0349e+00, -4.9798e-01],\n",
       "         [-6.7560e+00,  1.8565e+00, -3.4913e+01,  5.9421e-01, -7.5508e-01],\n",
       "         [ 2.6136e+01,  2.6659e+01,  5.4807e+00,  5.0496e-01,  5.3845e-01]],\n",
       "\n",
       "        [[ 2.6558e+01, -1.9462e+01, -5.8130e+00,  1.2940e+00,  8.1561e-02],\n",
       "         [-6.9929e+00,  1.7202e+00, -3.4873e+01, -5.7229e-01,  1.8407e-01],\n",
       "         [ 2.5851e+01,  2.4678e+01,  4.1605e+00, -1.4096e+00,  1.6586e+00]],\n",
       "\n",
       "        [[ 2.5522e+01, -1.8254e+01, -1.0758e+01,  2.9184e-01, -5.4776e-01],\n",
       "         [-1.3395e+01,  3.4669e+00, -3.3216e+01,  8.3969e-01, -3.4277e-01],\n",
       "         [ 2.4497e+01,  2.5865e+01,  1.5260e+00,  1.6222e+00, -2.2768e+00]],\n",
       "\n",
       "        [[ 2.4808e+01, -1.9273e+01, -1.1600e+01, -1.1488e+00, -2.5142e-01],\n",
       "         [-1.4218e+01,  2.6658e+00, -3.4116e+01,  3.2884e-02, -4.2819e-01],\n",
       "         [ 2.5132e+01,  2.6924e+01,  3.1911e+00, -2.2850e+00,  1.6642e+00]],\n",
       "\n",
       "        [[ 2.4806e+01, -1.8462e+01, -1.1744e+01, -2.2660e-01, -1.9091e-01],\n",
       "         [-1.3676e+01,  3.1507e+00, -3.3766e+01,  5.4165e-01, -5.9326e-01],\n",
       "         [ 2.5553e+01,  2.6993e+01,  2.7004e+00, -1.1068e+00,  1.5495e+00]]])"
      ]
     },
     "execution_count": 218,
     "metadata": {},
     "output_type": "execute_result"
    }
   ],
   "source": [
    "# Extract posterior samples, includes W, Z, and X. W is transformation, Z is weights, X is our data. \n",
    "#Sigma is our covariance matrix for X, assumed to be diagonal for PPCA I believe. \n",
    "posterior_samples = mcmc_run.get_samples()\n",
    "\n",
    "# Extract W, sigma, and Z samples\n",
    "W_samples = posterior_samples[\"W\"]\n",
    "sigma_samples = posterior_samples[\"sigma\"]\n",
    "Z_samples = posterior_samples[\"Z\"]\n",
    "\n",
    "print(W_samples.size())\n",
    "print(Z_samples.size())\n",
    "\n",
    "\n",
    "\n",
    "W_samples"
   ]
  },
  {
   "cell_type": "code",
   "execution_count": 176,
   "metadata": {},
   "outputs": [
    {
     "name": "stdout",
     "output_type": "stream",
     "text": [
      "torch.Size([100, 5])\n",
      "Percentage of Test distribution more likely than Y_Pred is1.0\n"
     ]
    }
   ],
   "source": [
    "reconstructed_X = Z_samples @ W_samples #Data_Rep Drawn from posterior Distribution\n",
    "\n",
    "m = torch.distributions.MultivariateNormal(torch.zeros(100,5), torch.eye(5))\n",
    "print(m.sample().size())\n",
    "\n",
    "\n",
    "log_prob = []\n",
    "test_prob_list = []\n",
    "for w,z,sig,x in zip(W_samples, Z_samples, sigma_samples, reconstructed_X):\n",
    "    #w is 2*5, z is 100*2, multiplied is 100*5. )\n",
    "    #Calculate log probability that distribution \n",
    "    \n",
    "    #Create new Y distribution based off our parameters\n",
    "    sample_dist = dist.MultivariateNormal((Z_mean@W_mean)[-20:, -2:], covariance_matrix=(torch.eye(2)*sig))\n",
    "    y_pred  = sample_dist.sample()\n",
    "    \n",
    "    #Calculate the likelihood given this sample\n",
    "    y_pred_likelihood = sample_dist.log_prob(y_pred).sum()\n",
    "    \n",
    "    #print(y_pred_likelihood)\n",
    "    \n",
    "    #Now, we want to calculate the likelihood of the actual data. \n",
    "    data_test = data[-20:, -2:,]\n",
    "    \n",
    "    test_prob = dist.MultivariateNormal((Z_mean @ W_mean)[-20:, -2:], covariance_matrix=(torch.eye(2)*sig)).log_prob(data_test).sum()\n",
    "    \n",
    "    #print(test_prob)\n",
    "\n",
    "    #break\n",
    "    \n",
    "    log_prob.append(y_pred_likelihood) \n",
    "    test_prob_list.append(test_prob)\n",
    "\n",
    "count = sum([1 for x, y in zip(log_prob, test_prob_list) if x > y])\n",
    "percent_likelihood = count / len(log_prob)\n",
    "        \n",
    "print(\"Percentage of Test distribution more likely than Y_Pred is\" + str(percent_likelihood))\n",
    "        \n",
    "\n",
    "        \n",
    "#Keep the same dimensionality, mask random values for train, then evaluate on full. \n",
    "\n",
    "#Hold out bottom corner, don't observe the outcomes. for the columns that were masked, create replicate timeseries for training, compare log probailities of replicated to log probabilities of the held out sequences. \n",
    "\n",
    "#Hold out 10 to 20 units, 2 time steps. Set up experimental design, randomly select units, last timesteps. "
   ]
  },
  {
   "cell_type": "code",
   "execution_count": 90,
   "metadata": {},
   "outputs": [
    {
     "ename": "SyntaxError",
     "evalue": "unexpected EOF while parsing (<ipython-input-90-85ffe9619cf9>, line 13)",
     "output_type": "error",
     "traceback": [
      "\u001b[0;36m  File \u001b[0;32m\"<ipython-input-90-85ffe9619cf9>\"\u001b[0;36m, line \u001b[0;32m13\u001b[0m\n\u001b[0;31m    \u001b[0m\n\u001b[0m    ^\u001b[0m\n\u001b[0;31mSyntaxError\u001b[0m\u001b[0;31m:\u001b[0m unexpected EOF while parsing\n"
     ]
    }
   ],
   "source": [
    "#Construct PPC from Posterior Sampled X, and New X from draws in Data. \n",
    "\n",
    "\n",
    "def PPC(data_new, data_obs): \n",
    "    \n",
    "    #Y_Obs is observed data we feed into the model. \n",
    "    #Y_New is observed data we don't have in the model. \n",
    "    #Y_Rep is data we draw from the posterior distribution using Y_Obs. \n",
    "    \n",
    "    \n",
    "    \n",
    "\n",
    "\n"
   ]
  },
  {
   "cell_type": "code",
   "execution_count": 113,
   "metadata": {
    "scrolled": false
   },
   "outputs": [
    {
     "ename": "RuntimeError",
     "evalue": "mat1 and mat2 shapes cannot be multiplied (100x5 and 100x100)",
     "output_type": "error",
     "traceback": [
      "\u001b[0;31m---------------------------------------------------------------------------\u001b[0m",
      "\u001b[0;31mRuntimeError\u001b[0m                              Traceback (most recent call last)",
      "\u001b[0;32m<ipython-input-113-d2f3b9a5ddb6>\u001b[0m in \u001b[0;36m<module>\u001b[0;34m\u001b[0m\n\u001b[1;32m      7\u001b[0m \u001b[0mexamplesamp\u001b[0m \u001b[0;34m=\u001b[0m \u001b[0mdist\u001b[0m\u001b[0;34m.\u001b[0m\u001b[0mMultivariateNormal\u001b[0m\u001b[0;34m(\u001b[0m\u001b[0;34m(\u001b[0m\u001b[0mz\u001b[0m\u001b[0;34m@\u001b[0m\u001b[0mw\u001b[0m\u001b[0;34m)\u001b[0m\u001b[0;34m,\u001b[0m \u001b[0mcovariance_matrix\u001b[0m\u001b[0;34m=\u001b[0m\u001b[0;34m(\u001b[0m\u001b[0mtorch\u001b[0m\u001b[0;34m.\u001b[0m\u001b[0meye\u001b[0m\u001b[0;34m(\u001b[0m\u001b[0;36m100\u001b[0m\u001b[0;34m)\u001b[0m\u001b[0;34m*\u001b[0m\u001b[0msig\u001b[0m\u001b[0;34m)\u001b[0m\u001b[0;34m)\u001b[0m\u001b[0;34m\u001b[0m\u001b[0;34m\u001b[0m\u001b[0m\n\u001b[1;32m      8\u001b[0m \u001b[0;34m\u001b[0m\u001b[0m\n\u001b[0;32m----> 9\u001b[0;31m \u001b[0mexamplesamp\u001b[0m\u001b[0;34m.\u001b[0m\u001b[0msample\u001b[0m\u001b[0;34m(\u001b[0m\u001b[0;34m)\u001b[0m\u001b[0;34m\u001b[0m\u001b[0;34m\u001b[0m\u001b[0m\n\u001b[0m",
      "\u001b[0;32m/opt/anaconda3/lib/python3.7/site-packages/torch/distributions/distribution.py\u001b[0m in \u001b[0;36msample\u001b[0;34m(self, sample_shape)\u001b[0m\n\u001b[1;32m    150\u001b[0m         \"\"\"\n\u001b[1;32m    151\u001b[0m         \u001b[0;32mwith\u001b[0m \u001b[0mtorch\u001b[0m\u001b[0;34m.\u001b[0m\u001b[0mno_grad\u001b[0m\u001b[0;34m(\u001b[0m\u001b[0;34m)\u001b[0m\u001b[0;34m:\u001b[0m\u001b[0;34m\u001b[0m\u001b[0;34m\u001b[0m\u001b[0m\n\u001b[0;32m--> 152\u001b[0;31m             \u001b[0;32mreturn\u001b[0m \u001b[0mself\u001b[0m\u001b[0;34m.\u001b[0m\u001b[0mrsample\u001b[0m\u001b[0;34m(\u001b[0m\u001b[0msample_shape\u001b[0m\u001b[0;34m)\u001b[0m\u001b[0;34m\u001b[0m\u001b[0;34m\u001b[0m\u001b[0m\n\u001b[0m\u001b[1;32m    153\u001b[0m \u001b[0;34m\u001b[0m\u001b[0m\n\u001b[1;32m    154\u001b[0m     \u001b[0;32mdef\u001b[0m \u001b[0mrsample\u001b[0m\u001b[0;34m(\u001b[0m\u001b[0mself\u001b[0m\u001b[0;34m,\u001b[0m \u001b[0msample_shape\u001b[0m\u001b[0;34m=\u001b[0m\u001b[0mtorch\u001b[0m\u001b[0;34m.\u001b[0m\u001b[0mSize\u001b[0m\u001b[0;34m(\u001b[0m\u001b[0;34m)\u001b[0m\u001b[0;34m)\u001b[0m\u001b[0;34m:\u001b[0m\u001b[0;34m\u001b[0m\u001b[0;34m\u001b[0m\u001b[0m\n",
      "\u001b[0;32m/opt/anaconda3/lib/python3.7/site-packages/torch/distributions/multivariate_normal.py\u001b[0m in \u001b[0;36mrsample\u001b[0;34m(self, sample_shape)\u001b[0m\n\u001b[1;32m    208\u001b[0m         \u001b[0mshape\u001b[0m \u001b[0;34m=\u001b[0m \u001b[0mself\u001b[0m\u001b[0;34m.\u001b[0m\u001b[0m_extended_shape\u001b[0m\u001b[0;34m(\u001b[0m\u001b[0msample_shape\u001b[0m\u001b[0;34m)\u001b[0m\u001b[0;34m\u001b[0m\u001b[0;34m\u001b[0m\u001b[0m\n\u001b[1;32m    209\u001b[0m         \u001b[0meps\u001b[0m \u001b[0;34m=\u001b[0m \u001b[0m_standard_normal\u001b[0m\u001b[0;34m(\u001b[0m\u001b[0mshape\u001b[0m\u001b[0;34m,\u001b[0m \u001b[0mdtype\u001b[0m\u001b[0;34m=\u001b[0m\u001b[0mself\u001b[0m\u001b[0;34m.\u001b[0m\u001b[0mloc\u001b[0m\u001b[0;34m.\u001b[0m\u001b[0mdtype\u001b[0m\u001b[0;34m,\u001b[0m \u001b[0mdevice\u001b[0m\u001b[0;34m=\u001b[0m\u001b[0mself\u001b[0m\u001b[0;34m.\u001b[0m\u001b[0mloc\u001b[0m\u001b[0;34m.\u001b[0m\u001b[0mdevice\u001b[0m\u001b[0;34m)\u001b[0m\u001b[0;34m\u001b[0m\u001b[0;34m\u001b[0m\u001b[0m\n\u001b[0;32m--> 210\u001b[0;31m         \u001b[0;32mreturn\u001b[0m \u001b[0mself\u001b[0m\u001b[0;34m.\u001b[0m\u001b[0mloc\u001b[0m \u001b[0;34m+\u001b[0m \u001b[0m_batch_mv\u001b[0m\u001b[0;34m(\u001b[0m\u001b[0mself\u001b[0m\u001b[0;34m.\u001b[0m\u001b[0m_unbroadcasted_scale_tril\u001b[0m\u001b[0;34m,\u001b[0m \u001b[0meps\u001b[0m\u001b[0;34m)\u001b[0m\u001b[0;34m\u001b[0m\u001b[0;34m\u001b[0m\u001b[0m\n\u001b[0m\u001b[1;32m    211\u001b[0m \u001b[0;34m\u001b[0m\u001b[0m\n\u001b[1;32m    212\u001b[0m     \u001b[0;32mdef\u001b[0m \u001b[0mlog_prob\u001b[0m\u001b[0;34m(\u001b[0m\u001b[0mself\u001b[0m\u001b[0;34m,\u001b[0m \u001b[0mvalue\u001b[0m\u001b[0;34m)\u001b[0m\u001b[0;34m:\u001b[0m\u001b[0;34m\u001b[0m\u001b[0;34m\u001b[0m\u001b[0m\n",
      "\u001b[0;32m/opt/anaconda3/lib/python3.7/site-packages/torch/distributions/multivariate_normal.py\u001b[0m in \u001b[0;36m_batch_mv\u001b[0;34m(bmat, bvec)\u001b[0m\n\u001b[1;32m     20\u001b[0m     \u001b[0mjust\u001b[0m \u001b[0mones\u001b[0m \u001b[0mwhich\u001b[0m \u001b[0mcan\u001b[0m \u001b[0mbe\u001b[0m \u001b[0mbroadcasted\u001b[0m\u001b[0;34m.\u001b[0m\u001b[0;34m\u001b[0m\u001b[0;34m\u001b[0m\u001b[0m\n\u001b[1;32m     21\u001b[0m     \"\"\"\n\u001b[0;32m---> 22\u001b[0;31m     \u001b[0;32mreturn\u001b[0m \u001b[0mtorch\u001b[0m\u001b[0;34m.\u001b[0m\u001b[0mmatmul\u001b[0m\u001b[0;34m(\u001b[0m\u001b[0mbmat\u001b[0m\u001b[0;34m,\u001b[0m \u001b[0mbvec\u001b[0m\u001b[0;34m.\u001b[0m\u001b[0munsqueeze\u001b[0m\u001b[0;34m(\u001b[0m\u001b[0;34m-\u001b[0m\u001b[0;36m1\u001b[0m\u001b[0;34m)\u001b[0m\u001b[0;34m)\u001b[0m\u001b[0;34m.\u001b[0m\u001b[0msqueeze\u001b[0m\u001b[0;34m(\u001b[0m\u001b[0;34m-\u001b[0m\u001b[0;36m1\u001b[0m\u001b[0;34m)\u001b[0m\u001b[0;34m\u001b[0m\u001b[0;34m\u001b[0m\u001b[0m\n\u001b[0m\u001b[1;32m     23\u001b[0m \u001b[0;34m\u001b[0m\u001b[0m\n\u001b[1;32m     24\u001b[0m \u001b[0;34m\u001b[0m\u001b[0m\n",
      "\u001b[0;31mRuntimeError\u001b[0m: mat1 and mat2 shapes cannot be multiplied (100x5 and 100x100)"
     ]
    }
   ],
   "source": [
    "z = torch.randn(100, 2)\n",
    "\n",
    "w = torch.randn(2, 5)\n",
    "\n",
    "sig = 5\n",
    "\n",
    "examplesamp = dist.MultivariateNormal((z@w), covariance_matrix=(torch.eye(100)*sig))\n",
    "\n",
    "examplesamp.sample()"
   ]
  },
  {
   "cell_type": "code",
   "execution_count": null,
   "metadata": {},
   "outputs": [],
   "source": [
    "data.size() # Original Data, 100 samples of 5 dimensions each "
   ]
  },
  {
   "cell_type": "code",
   "execution_count": null,
   "metadata": {},
   "outputs": [],
   "source": [
    "#Reconstruct PCA data by multiplying centered data with the average weight. \n",
    "X= W @ Z\n",
    "\n",
    "\n",
    "\n",
    "W_mean = W_samples.mean(dim=0)\n",
    "pca_data = torch.matmul(data - data.mean(dim=0), W_mean.T)"
   ]
  },
  {
   "cell_type": "code",
   "execution_count": null,
   "metadata": {},
   "outputs": [],
   "source": []
  }
 ],
 "metadata": {
  "kernelspec": {
   "display_name": "Python 3",
   "language": "python",
   "name": "python3"
  },
  "language_info": {
   "codemirror_mode": {
    "name": "ipython",
    "version": 3
   },
   "file_extension": ".py",
   "mimetype": "text/x-python",
   "name": "python",
   "nbconvert_exporter": "python",
   "pygments_lexer": "ipython3",
   "version": "3.7.6"
  }
 },
 "nbformat": 4,
 "nbformat_minor": 4
}
