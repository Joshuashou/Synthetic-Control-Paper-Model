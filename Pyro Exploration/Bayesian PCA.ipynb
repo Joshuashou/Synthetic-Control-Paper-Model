{
 "cells": [
  {
   "cell_type": "code",
   "execution_count": 13,
   "metadata": {},
   "outputs": [],
   "source": [
    "import pyro\n",
    "import pyro.distributions as dist\n",
    "import torch\n",
    "import numpy as np\n",
    "import matplotlib.pyplot as plt\n",
    "import pyro.infer.mcmc as mcmc\n",
    "\n",
    "def bayesian_pca(data, latent_dim):\n",
    "    # Define model parameters\n",
    "    n, p = data.shape\n",
    "    sigma = pyro.sample(\"sigma\", dist.Uniform(0., 10.))\n",
    "    mu = torch.zeros(p)\n",
    "    W = pyro.sample(\"W\", dist.MultivariateNormal(mu, scale_tril=torch.eye(p)).expand([latent_dim]))\n",
    "    Z = pyro.sample(\"Z\", dist.Normal(torch.zeros(n, latent_dim), torch.ones(n, latent_dim)))\n",
    "    X = pyro.sample(\"X\", dist.Normal(Z @ W, sigma), obs=data)\n",
    "    return X"
   ]
  },
  {
   "cell_type": "code",
   "execution_count": 14,
   "metadata": {},
   "outputs": [
    {
     "name": "stderr",
     "output_type": "stream",
     "text": [
      "Sample: 100%|██████████| 1100/1100 [02:10,  8.44it/s, step size=1.79e-01, acc. prob=0.905]\n"
     ]
    }
   ],
   "source": [
    "# Define model\n",
    "latent_dim = 2\n",
    "model = bayesian_pca\n",
    "\n",
    "# Generate fake data\n",
    "\n",
    "#Does P have to match the latent dimension ? \n",
    "n, p = 100, 5\n",
    "data = torch.randn(n, p)\n",
    "\n",
    "# Run MCMC\n",
    "num_samples = 1000\n",
    "warmup_steps = 100\n",
    "kernel = mcmc.HMC(model)\n",
    "mcmc_run = mcmc.MCMC(kernel, num_samples=num_samples, warmup_steps=warmup_steps)\n",
    "mcmc_run.run(data, latent_dim)"
   ]
  },
  {
   "cell_type": "code",
   "execution_count": 15,
   "metadata": {},
   "outputs": [
    {
     "data": {
      "image/png": "[encoded data removed]",
      "text/plain": [
       "<Figure size 576x432 with 2 Axes>"
      ]
     },
     "metadata": {
      "needs_background": "light"
     },
     "output_type": "display_data"
    }
   ],
   "source": [
    "# Extract posterior samples\n",
    "posterior_samples = mcmc_run.get_samples()\n",
    "\n",
    "# Extract W, sigma, and Z samples\n",
    "W_samples = posterior_samples[\"W\"]\n",
    "sigma_samples = posterior_samples[\"sigma\"]\n",
    "Z_samples = posterior_samples[\"Z\"]\n",
    "\n",
    "# Plot posterior samples of W\n",
    "fig, axs = plt.subplots(latent_dim, 1, figsize=(8, 6), sharex=True)\n",
    "for i in range(latent_dim):\n",
    "    axs[i].hist(W_samples[:, i, :], bins=50)\n",
    "    axs[i].set_title(f\"W[{i+1}, :]\")\n",
    "plt.tight_layout()\n",
    "plt.show()"
   ]
  },
  {
   "cell_type": "code",
   "execution_count": 20,
   "metadata": {},
   "outputs": [
    {
     "data": {
      "text/plain": [
       "torch.Size([1000, 100, 2])"
      ]
     },
     "execution_count": 20,
     "metadata": {},
     "output_type": "execute_result"
    }
   ],
   "source": [
    "#First is latent dimension 1, second is latent dimension 2. \n",
    "\n",
    "W_samples.size()\n",
    "Z_samples.size()"
   ]
  },
  {
   "cell_type": "code",
   "execution_count": 18,
   "metadata": {},
   "outputs": [
    {
     "data": {
      "text/plain": [
       "torch.Size([100, 5])"
      ]
     },
     "execution_count": 18,
     "metadata": {},
     "output_type": "execute_result"
    }
   ],
   "source": [
    "data.size()"
   ]
  },
  {
   "cell_type": "code",
   "execution_count": 26,
   "metadata": {},
   "outputs": [],
   "source": [
    "W_mean = W_samples.mean(dim=0)\n",
    "pca_data = torch.matmul(data - data.mean(dim=0), W_mean.T)"
   ]
  },
  {
   "cell_type": "code",
   "execution_count": 27,
   "metadata": {
    "scrolled": true
   },
   "outputs": [
    {
     "data": {
      "text/plain": [
       "tensor([[-0.0096, -0.0628],\n",
       "        [ 0.0367, -0.1267],\n",
       "        [-0.0146,  0.0970],\n",
       "        [-0.0244,  0.1957],\n",
       "        [-0.0281, -0.0472],\n",
       "        [ 0.0339, -0.0015],\n",
       "        [ 0.0245, -0.0178],\n",
       "        [-0.0362, -0.0089],\n",
       "        [ 0.0499, -0.0385],\n",
       "        [-0.0339, -0.0904],\n",
       "        [ 0.0585, -0.1067],\n",
       "        [-0.0428, -0.0689],\n",
       "        [ 0.0871,  0.1126],\n",
       "        [-0.0022, -0.0073],\n",
       "        [ 0.1118, -0.1144],\n",
       "        [-0.0453,  0.0026],\n",
       "        [ 0.0291, -0.0375],\n",
       "        [-0.0032, -0.0216],\n",
       "        [ 0.0105,  0.0940],\n",
       "        [ 0.0400, -0.0088],\n",
       "        [ 0.0291, -0.0499],\n",
       "        [-0.0763,  0.0642],\n",
       "        [ 0.0107,  0.1405],\n",
       "        [-0.0402, -0.0580],\n",
       "        [ 0.0310,  0.1084],\n",
       "        [ 0.0080, -0.1194],\n",
       "        [ 0.0011,  0.0991],\n",
       "        [-0.0316, -0.0438],\n",
       "        [-0.0128,  0.0775],\n",
       "        [ 0.0257, -0.0630],\n",
       "        [-0.0146,  0.0170],\n",
       "        [ 0.0478,  0.0067],\n",
       "        [ 0.0326,  0.0159],\n",
       "        [ 0.0059,  0.1016],\n",
       "        [ 0.0329, -0.0193],\n",
       "        [-0.0031, -0.0096],\n",
       "        [-0.0451,  0.1044],\n",
       "        [ 0.0955, -0.1784],\n",
       "        [ 0.0552,  0.0052],\n",
       "        [-0.0588, -0.0399],\n",
       "        [ 0.0456, -0.1061],\n",
       "        [ 0.0539,  0.0911],\n",
       "        [ 0.0119,  0.0196],\n",
       "        [-0.0922,  0.0595],\n",
       "        [-0.0353, -0.0106],\n",
       "        [-0.0013,  0.0147],\n",
       "        [-0.0055, -0.0542],\n",
       "        [ 0.0744, -0.1033],\n",
       "        [ 0.0157,  0.0962],\n",
       "        [ 0.0096,  0.0615],\n",
       "        [ 0.0226, -0.0454],\n",
       "        [ 0.0596, -0.0004],\n",
       "        [ 0.0464, -0.0610],\n",
       "        [-0.1043,  0.1779],\n",
       "        [-0.1130,  0.1925],\n",
       "        [-0.0207,  0.0038],\n",
       "        [-0.0180,  0.0295],\n",
       "        [-0.0300,  0.0091],\n",
       "        [-0.1359,  0.2143],\n",
       "        [-0.0945,  0.0379],\n",
       "        [ 0.0055,  0.0101],\n",
       "        [-0.0291,  0.0354],\n",
       "        [-0.0378, -0.0438],\n",
       "        [-0.0307, -0.1471],\n",
       "        [ 0.0025,  0.0058],\n",
       "        [ 0.0168,  0.0231],\n",
       "        [-0.0164,  0.1132],\n",
       "        [ 0.0715, -0.0674],\n",
       "        [ 0.0143, -0.0865],\n",
       "        [ 0.0687, -0.0335],\n",
       "        [-0.0343,  0.0978],\n",
       "        [-0.0580,  0.0311],\n",
       "        [-0.1108,  0.0258],\n",
       "        [-0.0538, -0.1617],\n",
       "        [-0.0486,  0.0403],\n",
       "        [-0.0391,  0.0367],\n",
       "        [ 0.0208, -0.1051],\n",
       "        [ 0.0297, -0.0303],\n",
       "        [ 0.0138,  0.0022],\n",
       "        [ 0.0029, -0.0418],\n",
       "        [ 0.0646,  0.0182],\n",
       "        [ 0.0524, -0.0702],\n",
       "        [ 0.0227, -0.0452],\n",
       "        [ 0.0179, -0.0291],\n",
       "        [-0.0736,  0.0563],\n",
       "        [-0.1004,  0.2128],\n",
       "        [-0.0103, -0.0094],\n",
       "        [-0.0254,  0.1523],\n",
       "        [ 0.0279, -0.0873],\n",
       "        [ 0.0100, -0.0146],\n",
       "        [-0.0162,  0.0939],\n",
       "        [ 0.0306, -0.0541],\n",
       "        [ 0.0396, -0.0890],\n",
       "        [ 0.0581, -0.0780],\n",
       "        [ 0.0757,  0.0933],\n",
       "        [ 0.0619, -0.0868],\n",
       "        [ 0.0300, -0.1091],\n",
       "        [-0.0684, -0.0750],\n",
       "        [-0.0456, -0.1015],\n",
       "        [ 0.0368, -0.0106]])"
      ]
     },
     "execution_count": 27,
     "metadata": {},
     "output_type": "execute_result"
    }
   ],
   "source": [
    "pca_data"
   ]
  },
  {
   "cell_type": "code",
   "execution_count": null,
   "metadata": {},
   "outputs": [],
   "source": []
  }
 ],
 "metadata": {
  "kernelspec": {
   "display_name": "Python 3",
   "language": "python",
   "name": "python3"
  },
  "language_info": {
   "codemirror_mode": {
    "name": "ipython",
    "version": 3
   },
   "file_extension": ".py",
   "mimetype": "text/x-python",
   "name": "python",
   "nbconvert_exporter": "python",
   "pygments_lexer": "ipython3",
   "version": "3.7.6"
  }
 },
 "nbformat": 4,
 "nbformat_minor": 4
}
