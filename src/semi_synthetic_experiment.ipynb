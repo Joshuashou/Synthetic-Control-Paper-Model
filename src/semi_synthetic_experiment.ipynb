{
 "cells": [
  {
   "cell_type": "code",
   "execution_count": 19,
   "metadata": {},
   "outputs": [],
   "source": [
    "import re\n",
    "import os\n",
    "import io\n",
    "import ast\n",
    "import gzip\n",
    "import glob\n",
    "\n",
    "import numpy as np\n",
    "import numpy.random as rn\n",
    "import pandas as pd\n",
    "\n",
    "import torch\n",
    "import pyro.distributions as dist\n",
    "\n",
    "from sklearn.linear_model import Ridge, Lasso, LinearRegression\n",
    "from sklearn.neural_network import MLPRegressor\n",
    "from sklearn.model_selection import GridSearchCV\n",
    "\n",
    "# import NMF from sklearn\n",
    "from sklearn.decomposition import NMF\n",
    "\n",
    "import matplotlib.pyplot as plt\n",
    "import seaborn as sns\n",
    "\n",
    "from path import Path\n",
    "\n",
    "from tqdm.notebook import tqdm"
   ]
  },
  {
   "cell_type": "code",
   "execution_count": 2,
   "metadata": {},
   "outputs": [],
   "source": [
    "# sometimes use all-caps to denote global variables\n",
    "DATA_SUPDIR = Path('/net/projects/schein-lab/jshou/dat/')\n",
    "\n",
    "def load_team_data(team, dat_supdir=DATA_SUPDIR):\n",
    "    # load data\n",
    "    train_pivot = pd.read_csv(dat_supdir.joinpath(team, 'train_pivot.csv'), index_col=0)\n",
    "    test_pivot = pd.read_csv(dat_supdir.joinpath(team, 'test_pivot.csv'), index_col=0)\n",
    "\n",
    "    # create a single pivot table for all outcomes\n",
    "    total_pivot = pd.concat([train_pivot, test_pivot], axis=0)\n",
    "\n",
    "    # this is a (timestep x county)-array of all outcomes\n",
    "    all_outcomes_TN = total_pivot.values\n",
    "    n_timesteps, n_counties = all_outcomes_TN.shape\n",
    "\n",
    "    # names of the dates and counties\n",
    "    dates = total_pivot.index\n",
    "    county_names = total_pivot.columns\n",
    "\n",
    "    # make sure that the last county is the stadium county\n",
    "    assert county_names[-1] == 'Stadium_County'\n",
    "\n",
    "    # the index of the intervention time\n",
    "    intervention_t = train_pivot.values.shape[0]\n",
    "\n",
    "    # make sure that the intervention time is correct\n",
    "    assert np.allclose(all_outcomes_TN[:intervention_t], train_pivot.values)\n",
    "    assert np.allclose(all_outcomes_TN[intervention_t:], test_pivot.values)\n",
    "\n",
    "    return total_pivot, intervention_t\n",
    "\n",
    "TEAM = 'Indianapolis'\n",
    "total_pivot, intervention_t = load_team_data(TEAM)\n",
    "all_outcomes_TN = total_pivot.values\n",
    "n_timesteps, n_counties = all_outcomes_TN.shape"
   ]
  },
  {
   "cell_type": "code",
   "execution_count": 136,
   "metadata": {},
   "outputs": [
    {
     "data": {
      "text/plain": [
       "[<matplotlib.lines.Line2D at 0x7f3ca9a7c0d0>]"
      ]
     },
     "execution_count": 136,
     "metadata": {},
     "output_type": "execute_result"
    },
    {
     "data": {
      "image/png": "[encoded data removed]",
      "text/plain": [
       "<Figure size 640x480 with 1 Axes>"
      ]
     },
     "metadata": {},
     "output_type": "display_data"
    }
   ],
   "source": [
    "def last_digit(x):\n",
    "    return int(str(x)[-1])\n",
    "\n",
    "def create_semi_synthetic_matrix(all_outcomes_TN, intervention_t, alpha=500, n_components=10, seed=617, model_mismatch_p=0.0):\n",
    "    n_timesteps, n_counties = all_outcomes_TN.shape\n",
    "\n",
    "    # fit NMF to the training data\n",
    "    nmf = NMF(n_components=n_components, init='random', random_state=seed, max_iter=5000)\n",
    "    W_TK = nmf.fit_transform(all_outcomes_TN)\n",
    "    H_KN = nmf.components_\n",
    "\n",
    "    Mu_TN = W_TK @ H_KN\n",
    "\n",
    "    rn.seed(seed)\n",
    "    synth_all_outcomes_TN = rn.poisson(Mu_TN)\n",
    "    if model_mismatch_p > 0.0:\n",
    "        for t in range(1, n_timesteps):\n",
    "            innovation_t = 0.9 + rn.beta(1 + 2 * int(last_digit(t) < 5), 1 + 2 * int(last_digit(t) >= 5)) * 0.2  # always between [0.9, 1.1]\n",
    "            Mu_TN[t] = (1-model_mismatch_p) * Mu_TN[t] + model_mismatch_p * (synth_all_outcomes_TN[t-1] * innovation_t)\n",
    "\n",
    "    true_counterfactuals = Mu_TN[intervention_t:, -1]\n",
    "    Mu_TN[intervention_t:, -1] *= (1 + np.log1p(np.arange(n_timesteps - intervention_t))) ** (np.arange(n_timesteps - intervention_t)/alpha)\n",
    "    return rn.poisson(Mu_TN), Mu_TN, true_counterfactuals\n",
    "\n",
    "synth_all_outcomes_TN, Mu_TN, true_counterfactuals = create_semi_synthetic_matrix(all_outcomes_TN, intervention_t, alpha=500, seed=617, model_mismatch_p=0.75)\n",
    "\n",
    "plt.plot(all_outcomes_TN[:, -1])\n",
    "plt.plot(synth_all_outcomes_TN[:, -1])\n"
   ]
  },
  {
   "cell_type": "code",
   "execution_count": 94,
   "metadata": {},
   "outputs": [
    {
     "data": {
      "text/plain": [
       "5"
      ]
     },
     "execution_count": 94,
     "metadata": {},
     "output_type": "execute_result"
    }
   ],
   "source": [
    "# get last digit of int\n",
    "def last_digit(x):\n",
    "    return int(str(x)[-1])"
   ]
  },
  {
   "cell_type": "code",
   "execution_count": 140,
   "metadata": {},
   "outputs": [
    {
     "data": {
      "application/vnd.jupyter.widget-view+json": {
       "model_id": "a8cc39421e82450bbd1c8f39b2c0db7b",
       "version_major": 2,
       "version_minor": 0
      },
      "text/plain": [
       "  0%|          | 0/31 [00:00<?, ?it/s]"
      ]
     },
     "metadata": {},
     "output_type": "display_data"
    },
    {
     "name": "stderr",
     "output_type": "stream",
     "text": [
      "/home/schein/miniconda3/lib/python3.11/site-packages/sklearn/decomposition/_nmf.py:1665: ConvergenceWarning: Maximum number of iterations 5000 reached. Increase it to improve convergence.\n",
      "  warnings.warn(\n",
      "/home/schein/miniconda3/lib/python3.11/site-packages/sklearn/decomposition/_nmf.py:1665: ConvergenceWarning: Maximum number of iterations 5000 reached. Increase it to improve convergence.\n",
      "  warnings.warn(\n",
      "/home/schein/miniconda3/lib/python3.11/site-packages/sklearn/decomposition/_nmf.py:1665: ConvergenceWarning: Maximum number of iterations 5000 reached. Increase it to improve convergence.\n",
      "  warnings.warn(\n",
      "/home/schein/miniconda3/lib/python3.11/site-packages/sklearn/decomposition/_nmf.py:1665: ConvergenceWarning: Maximum number of iterations 5000 reached. Increase it to improve convergence.\n",
      "  warnings.warn(\n",
      "/home/schein/miniconda3/lib/python3.11/site-packages/sklearn/decomposition/_nmf.py:1665: ConvergenceWarning: Maximum number of iterations 5000 reached. Increase it to improve convergence.\n",
      "  warnings.warn(\n",
      "/home/schein/miniconda3/lib/python3.11/site-packages/sklearn/decomposition/_nmf.py:1665: ConvergenceWarning: Maximum number of iterations 5000 reached. Increase it to improve convergence.\n",
      "  warnings.warn(\n",
      "/home/schein/miniconda3/lib/python3.11/site-packages/sklearn/decomposition/_nmf.py:1665: ConvergenceWarning: Maximum number of iterations 5000 reached. Increase it to improve convergence.\n",
      "  warnings.warn(\n",
      "/home/schein/miniconda3/lib/python3.11/site-packages/sklearn/decomposition/_nmf.py:1665: ConvergenceWarning: Maximum number of iterations 5000 reached. Increase it to improve convergence.\n",
      "  warnings.warn(\n",
      "/home/schein/miniconda3/lib/python3.11/site-packages/sklearn/decomposition/_nmf.py:1665: ConvergenceWarning: Maximum number of iterations 5000 reached. Increase it to improve convergence.\n",
      "  warnings.warn(\n",
      "/home/schein/miniconda3/lib/python3.11/site-packages/sklearn/decomposition/_nmf.py:1665: ConvergenceWarning: Maximum number of iterations 5000 reached. Increase it to improve convergence.\n",
      "  warnings.warn(\n",
      "/home/schein/miniconda3/lib/python3.11/site-packages/sklearn/decomposition/_nmf.py:1665: ConvergenceWarning: Maximum number of iterations 5000 reached. Increase it to improve convergence.\n",
      "  warnings.warn(\n",
      "/home/schein/miniconda3/lib/python3.11/site-packages/sklearn/decomposition/_nmf.py:1665: ConvergenceWarning: Maximum number of iterations 5000 reached. Increase it to improve convergence.\n",
      "  warnings.warn(\n",
      "/home/schein/miniconda3/lib/python3.11/site-packages/sklearn/decomposition/_nmf.py:1665: ConvergenceWarning: Maximum number of iterations 5000 reached. Increase it to improve convergence.\n",
      "  warnings.warn(\n",
      "/home/schein/miniconda3/lib/python3.11/site-packages/sklearn/decomposition/_nmf.py:1665: ConvergenceWarning: Maximum number of iterations 5000 reached. Increase it to improve convergence.\n",
      "  warnings.warn(\n",
      "/home/schein/miniconda3/lib/python3.11/site-packages/sklearn/decomposition/_nmf.py:1665: ConvergenceWarning: Maximum number of iterations 5000 reached. Increase it to improve convergence.\n",
      "  warnings.warn(\n",
      "/home/schein/miniconda3/lib/python3.11/site-packages/sklearn/decomposition/_nmf.py:1665: ConvergenceWarning: Maximum number of iterations 5000 reached. Increase it to improve convergence.\n",
      "  warnings.warn(\n",
      "/home/schein/miniconda3/lib/python3.11/site-packages/sklearn/decomposition/_nmf.py:1665: ConvergenceWarning: Maximum number of iterations 5000 reached. Increase it to improve convergence.\n",
      "  warnings.warn(\n",
      "/home/schein/miniconda3/lib/python3.11/site-packages/sklearn/decomposition/_nmf.py:1665: ConvergenceWarning: Maximum number of iterations 5000 reached. Increase it to improve convergence.\n",
      "  warnings.warn(\n"
     ]
    }
   ],
   "source": [
    "# sometimes use all-caps to denote global variables\n",
    "SYNTH_DATA_SUPDIR = Path('/net/projects/schein-lab/jshou/synth_dat/')\n",
    "\n",
    "for team_dir in tqdm(DATA_SUPDIR.dirs()):\n",
    "    team = team_dir.basename()\n",
    "\n",
    "    total_pivot, intervention_t = load_team_data(team)\n",
    "    all_outcomes_TN = total_pivot.values\n",
    "    n_timesteps, n_counties = all_outcomes_TN.shape\n",
    "\n",
    "    \n",
    "    for model_mismatch_p in [0, 10, 25, 50, 75, 100]:\n",
    "        for alpha in [250, 500, 100000]:\n",
    "            for seed in [617]:\n",
    "                synth_all_outcomes_TN, Mu_TN, true_counterfactuals = create_semi_synthetic_matrix(all_outcomes_TN, \n",
    "                                                                                                  intervention_t, \n",
    "                                                                                                  alpha=alpha, \n",
    "                                                                                                  seed=seed, \n",
    "                                                                                                  model_mismatch_p=model_mismatch_p/100.)\n",
    "                # set the values of the pandas dataframe\n",
    "                synth_total_pivot = total_pivot.copy()\n",
    "                synth_total_pivot.iloc[:,:] = synth_all_outcomes_TN\n",
    "                assert np.allclose(synth_total_pivot.values, synth_all_outcomes_TN)\n",
    "\n",
    "                out_dir = SYNTH_DATA_SUPDIR.joinpath(team, f'model_mismatch_p_{model_mismatch_p}', f'alpha_{alpha}', f'seed_{seed}')\n",
    "                out_dir.makedirs_p()\n",
    "\n",
    "                synth_total_pivot.iloc[:intervention_t].to_csv(out_dir.joinpath('train_pivot.csv'))\n",
    "                synth_total_pivot.iloc[intervention_t:].to_csv(out_dir.joinpath('test_pivot.csv'))\n",
    "\n",
    "                np.savez_compressed(out_dir.joinpath('ground_truth_rates.npz'), Mu_TN=Mu_TN, true_counterfactuals=true_counterfactuals)\n",
    "                "
   ]
  },
  {
   "cell_type": "code",
   "execution_count": 107,
   "metadata": {},
   "outputs": [
    {
     "data": {
      "application/vnd.jupyter.widget-view+json": {
       "model_id": "8c5bde3a583f47eda47565e9d5b9b89a",
       "version_major": 2,
       "version_minor": 0
      },
      "text/plain": [
       "  0%|          | 0/31 [00:00<?, ?it/s]"
      ]
     },
     "metadata": {},
     "output_type": "display_data"
    },
    {
     "name": "stdout",
     "output_type": "stream",
     "text": [
      "Atlanta 305 142\n",
      "Green Bay 289 58\n",
      "Pittsburgh 293 52\n",
      "Cleveland 298 72\n",
      "San Francisco 336 54\n",
      "Detroit 297 82\n",
      "Buffalo 292 52\n",
      "Kansas City 300 86\n",
      "Tennessee 302 85\n",
      "Dallas 297 212\n",
      "Houston 302 212\n",
      "LA Chargers 341 54\n",
      "Cincinnati 288 72\n",
      "New Orleans 297 64\n",
      "Philadelphia 297 52\n",
      "Indianapolis 301 84\n",
      "Minnesota 301 84\n",
      "Chicago 343 101\n",
      "LA Rams 341 54\n",
      "Carolina 295 91\n"
     ]
    }
   ],
   "source": [
    "for team_dir in tqdm(DATA_SUPDIR.dirs()):\n",
    "    team = team_dir.basename()\n",
    "\n",
    "    total_pivot, intervention_t = load_team_data(team)\n",
    "    all_outcomes_TN = total_pivot.values\n",
    "    n_timesteps, n_counties = all_outcomes_TN.shape\n",
    "    if n_counties > 50:\n",
    "        print(team, n_timesteps, n_counties)"
   ]
  },
  {
   "cell_type": "markdown",
   "metadata": {},
   "source": [
    "## Analyze results"
   ]
  },
  {
   "cell_type": "code",
   "execution_count": 135,
   "metadata": {},
   "outputs": [],
   "source": [
    "def get_reg_arrays(Z, all_outcomes_TN, intervention_t, counterfactual=False, include_previous_outcome=False):\n",
    "    latent_dim, n_counties = Z.shape\n",
    "    assert all_outcomes_TN.shape[1] == n_counties\n",
    "    all_outcomes_NT = all_outcomes_TN.T\n",
    "\n",
    "    A = np.zeros((n_counties, 1))\n",
    "    if not counterfactual:\n",
    "        A[-1] = 1\n",
    "    \n",
    "    if include_previous_outcome:\n",
    "        # Y_{i,t} ~ A + Z_i + Y_{i,-1} \n",
    "\n",
    "        B = np.array(all_outcomes_NT[:, intervention_t-1])[:, np.newaxis]\n",
    "        X = np.concatenate([Z.T, B, A], axis=1)\n",
    "        assert X.shape == (n_counties, latent_dim + 2)\n",
    "    else:\n",
    "        X = np.concatenate([Z.T, A], axis=1)\n",
    "        assert X.shape == (n_counties, latent_dim + 1)\n",
    "\n",
    "    Y = np.array(all_outcomes_NT[:, intervention_t:])\n",
    "    return X, Y\n",
    "\n",
    "\n",
    "def get_counterfactual_from_best_reg(Z, all_outcomes_TN, intervention_t, include_previous_outcome=True,\n",
    "                                     reg_type='Ridge', reg_params={\"alpha\": [0, 1e-4,1e-3, 1e-2]}):\n",
    "    \n",
    "    X, Y = get_reg_arrays(Z, all_outcomes_TN, intervention_t, include_previous_outcome=include_previous_outcome)\n",
    "\n",
    "    if reg_type == 'Ridge':\n",
    "        reg = Ridge()\n",
    "    elif reg_type == 'MLP': \n",
    "        reg = MLPRegressor(hidden_layer_sizes=(20, 20), max_iter=5000)\n",
    "    elif reg_type == 'Lasso':\n",
    "        reg = Lasso()\n",
    "    \n",
    "    cv = GridSearchCV(reg, reg_params, scoring='r2', cv=5)\n",
    "    cv_results = cv.fit(X, Y)\n",
    "    best_reg = cv_results.best_estimator_\n",
    "\n",
    "    X, _ = get_reg_arrays(Z, all_outcomes_TN, intervention_t, include_previous_outcome=include_previous_outcome, counterfactual=True)\n",
    "    return best_reg.predict(X)[-1], best_reg  # return only affected county and model\n"
   ]
  },
  {
   "cell_type": "code",
   "execution_count": 138,
   "metadata": {},
   "outputs": [
    {
     "ename": "FileNotFoundError",
     "evalue": "[Errno 2] No such file or directory: Path('/net/projects/schein-lab/jshou/synth_dat/Buffalo/model_mismatch_p_10/alpha_500/seed_617/ground_truth_rates.npz')",
     "output_type": "error",
     "traceback": [
      "\u001b[0;31m---------------------------------------------------------------------------\u001b[0m",
      "\u001b[0;31mFileNotFoundError\u001b[0m                         Traceback (most recent call last)",
      "\u001b[1;32m/home/schein/Synthetic-Control-Paper-Model/semi_synthetic_experiment.ipynb Cell 9\u001b[0m line \u001b[0;36m2\n\u001b[1;32m     <a href='vscode-notebook-cell://ssh-remote%2Bfe.ds/home/schein/Synthetic-Control-Paper-Model/semi_synthetic_experiment.ipynb#X12sdnNjb2RlLXJlbW90ZQ%3D%3D?line=20'>21</a>\u001b[0m n_timesteps, n_counties \u001b[39m=\u001b[39m all_outcomes_TN\u001b[39m.\u001b[39mshape\n\u001b[1;32m     <a href='vscode-notebook-cell://ssh-remote%2Bfe.ds/home/schein/Synthetic-Control-Paper-Model/semi_synthetic_experiment.ipynb#X12sdnNjb2RlLXJlbW90ZQ%3D%3D?line=21'>22</a>\u001b[0m intervention_t \u001b[39m=\u001b[39m train_pivot\u001b[39m.\u001b[39mvalues\u001b[39m.\u001b[39mshape[\u001b[39m0\u001b[39m]\n\u001b[0;32m---> <a href='vscode-notebook-cell://ssh-remote%2Bfe.ds/home/schein/Synthetic-Control-Paper-Model/semi_synthetic_experiment.ipynb#X12sdnNjb2RlLXJlbW90ZQ%3D%3D?line=22'>23</a>\u001b[0m true_counterfactuals \u001b[39m=\u001b[39m np\u001b[39m.\u001b[39mload(synth_data_dir\u001b[39m.\u001b[39mjoinpath(\u001b[39m'\u001b[39m\u001b[39mground_truth_rates.npz\u001b[39m\u001b[39m'\u001b[39m))[\u001b[39m'\u001b[39m\u001b[39mtrue_counterfactuals\u001b[39m\u001b[39m'\u001b[39m]\n\u001b[1;32m     <a href='vscode-notebook-cell://ssh-remote%2Bfe.ds/home/schein/Synthetic-Control-Paper-Model/semi_synthetic_experiment.ipynb#X12sdnNjb2RlLXJlbW90ZQ%3D%3D?line=24'>25</a>\u001b[0m \u001b[39m# get team name, model, etc from path\u001b[39;00m\n\u001b[1;32m     <a href='vscode-notebook-cell://ssh-remote%2Bfe.ds/home/schein/Synthetic-Control-Paper-Model/semi_synthetic_experiment.ipynb#X12sdnNjb2RlLXJlbW90ZQ%3D%3D?line=25'>26</a>\u001b[0m subdirs \u001b[39m=\u001b[39m synth_data_dir\u001b[39m.\u001b[39msplitall()\n",
      "File \u001b[0;32m~/miniconda3/lib/python3.11/site-packages/numpy/lib/npyio.py:427\u001b[0m, in \u001b[0;36mload\u001b[0;34m(file, mmap_mode, allow_pickle, fix_imports, encoding, max_header_size)\u001b[0m\n\u001b[1;32m    425\u001b[0m     own_fid \u001b[39m=\u001b[39m \u001b[39mFalse\u001b[39;00m\n\u001b[1;32m    426\u001b[0m \u001b[39melse\u001b[39;00m:\n\u001b[0;32m--> 427\u001b[0m     fid \u001b[39m=\u001b[39m stack\u001b[39m.\u001b[39menter_context(\u001b[39mopen\u001b[39m(os_fspath(file), \u001b[39m\"\u001b[39m\u001b[39mrb\u001b[39m\u001b[39m\"\u001b[39m))\n\u001b[1;32m    428\u001b[0m     own_fid \u001b[39m=\u001b[39m \u001b[39mTrue\u001b[39;00m\n\u001b[1;32m    430\u001b[0m \u001b[39m# Code to distinguish from NumPy binary files and pickles.\u001b[39;00m\n",
      "\u001b[0;31mFileNotFoundError\u001b[0m: [Errno 2] No such file or directory: Path('/net/projects/schein-lab/jshou/synth_dat/Buffalo/model_mismatch_p_10/alpha_500/seed_617/ground_truth_rates.npz')"
     ]
    }
   ],
   "source": [
    "SYNTH_SUPDIR = Path('/net/projects/schein-lab/jshou/synth_dat')\n",
    "\n",
    "# find posterior_sample_file\n",
    "posterior_sample_files = list(SYNTH_SUPDIR.walkfiles('*posterior_samples.npz'))\n",
    "posterior_sample_file = posterior_sample_files[0]\n",
    "posterior_samples = np.load(posterior_sample_file)\n",
    "Z_samples = posterior_samples['Z']\n",
    "\n",
    "# walk back up the path to get the data\n",
    "synth_data_dir = posterior_sample_file.parent\n",
    "while synth_data_dir.basename() != 'synth_dat':\n",
    "    if synth_data_dir.joinpath('train_pivot.csv').exists():\n",
    "        break\n",
    "    synth_data_dir = synth_data_dir.parent\n",
    "\n",
    "# load the data\n",
    "train_pivot = pd.read_csv(synth_data_dir.joinpath('train_pivot.csv'), index_col=0)\n",
    "test_pivot = pd.read_csv(synth_data_dir.joinpath('test_pivot.csv'), index_col=0)\n",
    "total_pivot = pd.concat([train_pivot, test_pivot], axis=0)\n",
    "all_outcomes_TN = total_pivot.values\n",
    "n_timesteps, n_counties = all_outcomes_TN.shape\n",
    "intervention_t = train_pivot.values.shape[0]\n",
    "true_counterfactuals = np.load(synth_data_dir.joinpath('ground_truth_rates.npz'))['true_counterfactuals']\n",
    "\n",
    "# get team name, model, etc from path\n",
    "subdirs = synth_data_dir.splitall()\n",
    "seed = int(subdirs[-1].split('_')[-1])\n",
    "alpha = int(subdirs[-2].split('_')[-1])\n",
    "model_mismatch_p = int(subdirs[-3].split('_')[-1])/100.\n",
    "team = subdirs[-4]\n",
    "\n",
    "# compute counterfactuals for every posterior sample using Ridge regression\n",
    "\n",
    "reg_type = 'Ridge'\n",
    "include_previous_outcome = True\n",
    "\n",
    "counterfactual_preds = []\n",
    "for Z in Z_samples:\n",
    "    cf_pred, best_reg = get_counterfactual_from_best_reg(Z,\n",
    "                                                         reg_type=reg_type,\n",
    "                                                         all_outcomes_TN=all_outcomes_TN, \n",
    "                                                         intervention_t=intervention_t, \n",
    "                                                         include_previous_outcome=include_previous_outcome)\n",
    "    counterfactual_preds.append(cf_pred)\n",
    "counterfactual_preds = np.array(counterfactual_preds)"
   ]
  },
  {
   "cell_type": "code",
   "execution_count": 139,
   "metadata": {},
   "outputs": [
    {
     "name": "stdout",
     "output_type": "stream",
     "text": [
      "\u001b[0m\u001b[01;34mresults\u001b[0m/  test_pivot.csv  train_pivot.csv\n"
     ]
    }
   ],
   "source": [
    "ls /net/projects/schein-lab/jshou/synth_dat/Buffalo/model_mismatch_p_10/alpha_500/seed_617/\n"
   ]
  },
  {
   "cell_type": "code",
   "execution_count": 129,
   "metadata": {},
   "outputs": [
    {
     "data": {
      "text/plain": [
       "['Buffalo',\n",
       " 'model_mismatch_p_10',\n",
       " 'alpha_500',\n",
       " 'seed_617',\n",
       " 'results',\n",
       " 'GAP',\n",
       " 'latent_dim10',\n",
       " 'seed_617',\n",
       " 'posterior_samples.npz']"
      ]
     },
     "execution_count": 129,
     "metadata": {},
     "output_type": "execute_result"
    }
   ],
   "source": [
    "subdirs = posterior_sample_file.splitall()\n",
    "subdirs = subdirs[subdirs.index('synth_dat')+1:]\n",
    "team = subdirs['']"
   ]
  },
  {
   "cell_type": "code",
   "execution_count": 128,
   "metadata": {},
   "outputs": [
    {
     "data": {
      "text/plain": [
       "(Path('/net/projects/schein-lab/jshou/synth_dat/Buffalo/model_mismatch_p_10/alpha_500/seed_617/results/GAP/latent_dim10/seed_617'),\n",
       " 'posterior_samples.npz')"
      ]
     },
     "execution_count": 128,
     "metadata": {},
     "output_type": "execute_result"
    }
   ],
   "source": [
    "posterior_sample_file.splitpath()\n"
   ]
  }
 ],
 "metadata": {
  "kernelspec": {
   "display_name": "base",
   "language": "python",
   "name": "python3"
  },
  "language_info": {
   "codemirror_mode": {
    "name": "ipython",
    "version": 3
   },
   "file_extension": ".py",
   "mimetype": "text/x-python",
   "name": "python",
   "nbconvert_exporter": "python",
   "pygments_lexer": "ipython3",
   "version": "3.11.4"
  },
  "orig_nbformat": 4
 },
 "nbformat": 4,
 "nbformat_minor": 2
}
