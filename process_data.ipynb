{
 "cells": [
  {
   "cell_type": "code",
   "execution_count": 13,
   "metadata": {},
   "outputs": [],
   "source": [
    "import numpy as np\n",
    "import pandas as pd\n",
    "import torch\n",
    "import ast\n",
    "\n",
    "from tqdm.notebook import tqdm\n",
    "from path import Path"
   ]
  },
  {
   "cell_type": "code",
   "execution_count": 2,
   "metadata": {},
   "outputs": [],
   "source": [
    "#Stadium data for obtaining training data \n",
    "stadium_county_df = pd.read_csv('Cleaned_stadium_data.csv')\n",
    "\n",
    "#Grouped data for running Bayesian SC\n",
    "grouped_df = pd.read_csv('Grouped_df.csv')\n",
    "\n",
    "county_covid = pd.read_csv('County_Covid_Data.csv')\n",
    "\n",
    "county_covid['date'] = pd.to_datetime(county_covid['date'])\n",
    "county_covid = county_covid.loc[~(county_covid['county'] == 'Unknown')]\n",
    "county_covid = county_covid.loc[~(county_covid['cases'].isnull())]\n",
    "county_covid['county'] = county_covid['county'].apply(lambda x: x.lower() if isinstance(x, str) else x)"
   ]
  },
  {
   "cell_type": "code",
   "execution_count": 3,
   "metadata": {},
   "outputs": [],
   "source": [
    "home_state_dict = {\n",
    "        'AK': 'Alaska',\n",
    "        'AL': 'Alabama',\n",
    "        'AR': 'Arkansas',\n",
    "        'AS': 'American Samoa',\n",
    "        'AZ': 'Arizona',\n",
    "        'CA': 'California',\n",
    "        'CO': 'Colorado',\n",
    "        'CT': 'Connecticut',\n",
    "        'DC': 'District of Columbia',\n",
    "        'DE': 'Delaware',\n",
    "        'FL': 'Florida',\n",
    "        'GA': 'Georgia',\n",
    "        'GU': 'Guam',\n",
    "        'HI': 'Hawaii',\n",
    "        'IA': 'Iowa',\n",
    "        'ID': 'Idaho',\n",
    "        'IL': 'Illinois',\n",
    "        'IN': 'Indiana',\n",
    "        'KS': 'Kansas',\n",
    "        'KY': 'Kentucky',\n",
    "        'LA': 'Louisiana',\n",
    "        'MA': 'Massachusetts',\n",
    "        'MD': 'Maryland',\n",
    "        'ME': 'Maine',\n",
    "        'MI': 'Michigan',\n",
    "        'MN': 'Minnesota',\n",
    "        'MO': 'Missouri',\n",
    "        'MP': 'Northern Mariana Islands',\n",
    "        'MS': 'Mississippi',\n",
    "        'MT': 'Montana',\n",
    "        'NA': 'National',\n",
    "        'NC': 'North Carolina',\n",
    "        'ND': 'North Dakota',\n",
    "        'NE': 'Nebraska',\n",
    "        'NH': 'New Hampshire',\n",
    "        'NJ': 'New Jersey',\n",
    "        'NM': 'New Mexico',\n",
    "        'NV': 'Nevada',\n",
    "        'NY': 'New York',\n",
    "        'OH': 'Ohio',\n",
    "        'OK': 'Oklahoma',\n",
    "        'OR': 'Oregon',\n",
    "        'PA': 'Pennsylvania',\n",
    "        'PR': 'Puerto Rico',\n",
    "        'RI': 'Rhode Island',\n",
    "        'SC': 'South Carolina',\n",
    "        'SD': 'South Dakota',\n",
    "        'TN': 'Tennessee',\n",
    "        'TX': 'Texas',\n",
    "        'UT': 'Utah',\n",
    "        'VA': 'Virginia',\n",
    "        'VI': 'Virgin Islands',\n",
    "        'VT': 'Vermont',\n",
    "        'WA': 'Washington',\n",
    "        'WI': 'Wisconsin',\n",
    "        'WV': 'West Virginia',\n",
    "        'WY': 'Wyoming'\n",
    "}"
   ]
  },
  {
   "cell_type": "code",
   "execution_count": 5,
   "metadata": {},
   "outputs": [],
   "source": [
    "#Below function gets training X and training Y data for applying Bayesian Model \n",
    "def get_training_data(team_name_str, stadium_county_str, state_str, intervention_date, show_plot, week):\n",
    "    # the arguments show_plot and week are never used\n",
    "\n",
    "    # what does this do? remove whitespace?\n",
    "    stadium_county_str = [x for x in stadium_county_str if x != \"\"]\n",
    "    state_str = [x for x in state_str if x != \"\"]\n",
    "    intervention_date = [x for x in intervention_date if x != \"\"]\n",
    "    #Convert to lower case to avoid case insensitivity later\n",
    "    stadium_county_str = [s.lower() for s in stadium_county_str]\n",
    "    #To find intervention_date, we want first entry that has numbers, since some in data is text only.\n",
    "\n",
    "    for s in intervention_date:\n",
    "        if any(c.isdigit() for c in s):\n",
    "            intervention_date = s\n",
    "\n",
    "\n",
    "    intervention_date = pd.to_datetime(intervention_date)\n",
    "\n",
    "\n",
    "    #Convert State Acronym to full state name\n",
    "    for state in range(len(state_str)):\n",
    "        if state_str[state] in home_state_dict:\n",
    "            state_str[state] = home_state_dict[state_str[state]]\n",
    "            \n",
    "            \n",
    "    #print(stadium_county_df)\n",
    "    #Find Synthetic Counties\n",
    "    synthetic_counties = list(stadium_county_df.loc[stadium_county_df['Team'] == team_name_str]['Donor_Counties'])[0]#.copy()\n",
    "    #synthetic_counties = list(synthetic_counties)\n",
    "    synthetic_counties = eval(synthetic_counties)\n",
    "    synthetic_counties = [s.lower() for s in synthetic_counties]\n",
    "    n_donors = len(synthetic_counties)\n",
    "    \n",
    "    #print(synthetic_counties)\n",
    "\n",
    "    #Find Dataframe of X and Y data\n",
    "    #Special case where \n",
    "    \n",
    "    \n",
    "    if team_name_str == 'Washington':\n",
    "        stadium_county_data = county_covid.loc[(county_covid['county'].isin(stadium_county_str)) | ((county_covid['county'].isin(synthetic_counties)) & (county_covid['state'] == 'Maryland'))]\n",
    "    else:\n",
    "        stadium_county_data = county_covid.loc[(county_covid['county'].isin(stadium_county_str) | (county_covid['county'].isin(synthetic_counties))) & (county_covid['state'].isin(state_str))]\n",
    "    \n",
    "    stadium_county_data = stadium_county_data.fillna(method='bfill')\n",
    "    stadium_county_data['date'] = pd.to_datetime(stadium_county_data['date'], infer_datetime_format=True)\n",
    "    \n",
    "    earliest_date = list(stadium_county_data.loc[stadium_county_data['county'].isin(stadium_county_str)]['date'])[0]\n",
    "    \n",
    "    #Start training from the earliest date of when our stadium county data becomes available.\n",
    "    stadium_county_data = stadium_county_data.loc[stadium_county_data['date'] >= earliest_date]\n",
    "    \n",
    "    \n",
    "    #Total Pivot is pivot table cases for entire dataset, training pivot is the same but for < intervention date\n",
    "    total_pivot = stadium_county_data.pivot_table(columns='county', values='cases', index= 'date').reset_index()\n",
    "    total_pivot = total_pivot.loc[total_pivot['date'] >= earliest_date]\n",
    "    \n",
    "    #Sum up stadium counties for our prediction. \n",
    "    total_pivot['Stadium_County'] = total_pivot.apply(lambda row: row[stadium_county_str].sum(), axis=1)\n",
    "    #total_pivot['Stadium_County'] = total_pivot.loc[:, total_pivot.columns == (stadium_county_str[0])]\n",
    "    \n",
    "    \n",
    "    total_pivot.drop(stadium_county_str, axis=1, inplace=True)\n",
    "    \n",
    "    total_pivot.fillna(0, inplace=True)\n",
    "    \n",
    "    training_pivot = total_pivot.loc[total_pivot['date'] < intervention_date]\n",
    "    \n",
    "    training_dates = training_pivot['date']\n",
    "    \n",
    "    total_dates = total_pivot['date']\n",
    "    \n",
    "    test_pivot = total_pivot.loc[total_pivot['date'] >= intervention_date]\n",
    "    \n",
    "    test_pivot = test_pivot.drop(['date'], axis=1)\n",
    "    \n",
    "    training_pivot = training_pivot.drop(['date'], axis=1)\n",
    "    \n",
    "    total_pivot = total_pivot.drop(['date'], axis=1)\n",
    "    \n",
    "    \n",
    "    X_train = training_pivot.loc[:, ~training_pivot.columns.isin(['Stadium_County'])]\n",
    "    \n",
    "    Y_train = training_pivot['Stadium_County']\n",
    "    \n",
    "    total_X = total_pivot.loc[:, ~total_pivot.columns.isin(['Stadium_County'])]\n",
    "    total_Y = total_pivot['Stadium_County']\n",
    "    \n",
    "    test_X = test_pivot.loc[:, ~test_pivot.columns.isin(['Stadium_County'])]\n",
    "    test_Y = test_pivot['Stadium_County']\n",
    "    \n",
    "\n",
    "    return X_train, Y_train, test_X, test_Y, total_dates\n",
    "\n",
    "x_train, y_train, x_test, y_test, dates = get_training_data('Cincinnati', [\"Hamilton\"], [\"OH\"], ['10/04/2020'], True, 0)"
   ]
  },
  {
   "cell_type": "code",
   "execution_count": 10,
   "metadata": {},
   "outputs": [
    {
     "data": {
      "text/plain": [
       "Path('dat')"
      ]
     },
     "execution_count": 10,
     "metadata": {},
     "output_type": "execute_result"
    }
   ],
   "source": [
    "p = Path('dat')\n",
    "p.mkdir_p()"
   ]
  },
  {
   "cell_type": "code",
   "execution_count": 14,
   "metadata": {},
   "outputs": [
    {
     "data": {
      "application/vnd.jupyter.widget-view+json": {
       "model_id": "b613e6f38df04abb9fa7667f7379c0bd",
       "version_major": 2,
       "version_minor": 0
      },
      "text/plain": [
       "0it [00:00, ?it/s]"
      ]
     },
     "metadata": {},
     "output_type": "display_data"
    }
   ],
   "source": [
    "zipped_input = zip(grouped_df['Team'], grouped_df['County(s)'], grouped_df['State'], grouped_df['First date home stadium open to fans'])\n",
    "\n",
    "for i, (team, county, state, date) in tqdm(enumerate(zipped_input)):\n",
    "    if team in ['Arizona']:\n",
    "        continue\n",
    "    \n",
    "    outpath = Path('dat').joinpath(team)\n",
    "    outpath.mkdir_p()\n",
    "\n",
    "    date = ast.literal_eval(date)\n",
    "    county = ast.literal_eval(county)\n",
    "    state = ast.literal_eval(state)\n",
    "\n",
    "    # x are donors, y are stadiums, train is pre-intervention, test is post intervention\n",
    "    x_train, y_train, x_test, y_test, dates = get_training_data(team, county, state, date, True, 0)\n",
    "    x_train, y_train, x_test, y_test = torch.tensor(x_train.values),torch.tensor(y_train.values), torch.tensor(x_test.values), torch.tensor(y_test.values)\n",
    "\n",
    "    # Combine Donor and Stadium in our traning data\n",
    "    train_data = torch.cat((x_train, torch.unsqueeze(y_train, 1)), dim=1)  # this is a T x N matrix\n",
    "    test_data = torch.cat((x_test, torch.unsqueeze(y_test, 1)), dim=1)  # this is a T x N matrix\n",
    "\n",
    "    # Save data\n",
    "    torch.save(train_data, outpath.joinpath('train_data.pt'))\n",
    "    torch.save(train_data, outpath.joinpath('test_data.pt'))"
   ]
  },
  {
   "cell_type": "code",
   "execution_count": 17,
   "metadata": {},
   "outputs": [
    {
     "name": "stdout",
     "output_type": "stream",
     "text": [
      "test_data.pt   train_data.pt\n"
     ]
    }
   ],
   "source": []
  },
  {
   "cell_type": "code",
   "execution_count": null,
   "metadata": {},
   "outputs": [],
   "source": []
  }
 ],
 "metadata": {
  "kernelspec": {
   "display_name": "base",
   "language": "python",
   "name": "python3"
  },
  "language_info": {
   "codemirror_mode": {
    "name": "ipython",
    "version": 3
   },
   "file_extension": ".py",
   "mimetype": "text/x-python",
   "name": "python",
   "nbconvert_exporter": "python",
   "pygments_lexer": "ipython3",
   "version": "3.9.13"
  },
  "orig_nbformat": 4
 },
 "nbformat": 4,
 "nbformat_minor": 2
}
